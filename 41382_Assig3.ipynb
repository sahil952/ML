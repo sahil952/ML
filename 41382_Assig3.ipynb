{
 "cells": [
  {
   "cell_type": "code",
   "execution_count": 1,
   "id": "47781660",
   "metadata": {},
   "outputs": [],
   "source": [
    "import pandas as pd\n",
    "import numpy as np\n",
    "import seaborn as sns\n",
    "import matplotlib.pyplot as plt\n",
    "import tensorflow as tf"
   ]
  },
  {
   "cell_type": "code",
   "execution_count": 2,
   "id": "8ef3725f",
   "metadata": {},
   "outputs": [
    {
     "data": {
      "text/html": [
       "<div>\n",
       "<style scoped>\n",
       "    .dataframe tbody tr th:only-of-type {\n",
       "        vertical-align: middle;\n",
       "    }\n",
       "\n",
       "    .dataframe tbody tr th {\n",
       "        vertical-align: top;\n",
       "    }\n",
       "\n",
       "    .dataframe thead th {\n",
       "        text-align: right;\n",
       "    }\n",
       "</style>\n",
       "<table border=\"1\" class=\"dataframe\">\n",
       "  <thead>\n",
       "    <tr style=\"text-align: right;\">\n",
       "      <th></th>\n",
       "      <th>RowNumber</th>\n",
       "      <th>CustomerId</th>\n",
       "      <th>Surname</th>\n",
       "      <th>CreditScore</th>\n",
       "      <th>Geography</th>\n",
       "      <th>Gender</th>\n",
       "      <th>Age</th>\n",
       "      <th>Tenure</th>\n",
       "      <th>Balance</th>\n",
       "      <th>NumOfProducts</th>\n",
       "      <th>HasCrCard</th>\n",
       "      <th>IsActiveMember</th>\n",
       "      <th>EstimatedSalary</th>\n",
       "      <th>Exited</th>\n",
       "    </tr>\n",
       "  </thead>\n",
       "  <tbody>\n",
       "    <tr>\n",
       "      <th>0</th>\n",
       "      <td>1</td>\n",
       "      <td>15634602</td>\n",
       "      <td>Hargrave</td>\n",
       "      <td>619</td>\n",
       "      <td>France</td>\n",
       "      <td>Female</td>\n",
       "      <td>42</td>\n",
       "      <td>2</td>\n",
       "      <td>0.00</td>\n",
       "      <td>1</td>\n",
       "      <td>1</td>\n",
       "      <td>1</td>\n",
       "      <td>101348.88</td>\n",
       "      <td>1</td>\n",
       "    </tr>\n",
       "    <tr>\n",
       "      <th>1</th>\n",
       "      <td>2</td>\n",
       "      <td>15647311</td>\n",
       "      <td>Hill</td>\n",
       "      <td>608</td>\n",
       "      <td>Spain</td>\n",
       "      <td>Female</td>\n",
       "      <td>41</td>\n",
       "      <td>1</td>\n",
       "      <td>83807.86</td>\n",
       "      <td>1</td>\n",
       "      <td>0</td>\n",
       "      <td>1</td>\n",
       "      <td>112542.58</td>\n",
       "      <td>0</td>\n",
       "    </tr>\n",
       "    <tr>\n",
       "      <th>2</th>\n",
       "      <td>3</td>\n",
       "      <td>15619304</td>\n",
       "      <td>Onio</td>\n",
       "      <td>502</td>\n",
       "      <td>France</td>\n",
       "      <td>Female</td>\n",
       "      <td>42</td>\n",
       "      <td>8</td>\n",
       "      <td>159660.80</td>\n",
       "      <td>3</td>\n",
       "      <td>1</td>\n",
       "      <td>0</td>\n",
       "      <td>113931.57</td>\n",
       "      <td>1</td>\n",
       "    </tr>\n",
       "    <tr>\n",
       "      <th>3</th>\n",
       "      <td>4</td>\n",
       "      <td>15701354</td>\n",
       "      <td>Boni</td>\n",
       "      <td>699</td>\n",
       "      <td>France</td>\n",
       "      <td>Female</td>\n",
       "      <td>39</td>\n",
       "      <td>1</td>\n",
       "      <td>0.00</td>\n",
       "      <td>2</td>\n",
       "      <td>0</td>\n",
       "      <td>0</td>\n",
       "      <td>93826.63</td>\n",
       "      <td>0</td>\n",
       "    </tr>\n",
       "    <tr>\n",
       "      <th>4</th>\n",
       "      <td>5</td>\n",
       "      <td>15737888</td>\n",
       "      <td>Mitchell</td>\n",
       "      <td>850</td>\n",
       "      <td>Spain</td>\n",
       "      <td>Female</td>\n",
       "      <td>43</td>\n",
       "      <td>2</td>\n",
       "      <td>125510.82</td>\n",
       "      <td>1</td>\n",
       "      <td>1</td>\n",
       "      <td>1</td>\n",
       "      <td>79084.10</td>\n",
       "      <td>0</td>\n",
       "    </tr>\n",
       "  </tbody>\n",
       "</table>\n",
       "</div>"
      ],
      "text/plain": [
       "   RowNumber  CustomerId   Surname  CreditScore Geography  Gender  Age  \\\n",
       "0          1    15634602  Hargrave          619    France  Female   42   \n",
       "1          2    15647311      Hill          608     Spain  Female   41   \n",
       "2          3    15619304      Onio          502    France  Female   42   \n",
       "3          4    15701354      Boni          699    France  Female   39   \n",
       "4          5    15737888  Mitchell          850     Spain  Female   43   \n",
       "\n",
       "   Tenure    Balance  NumOfProducts  HasCrCard  IsActiveMember  \\\n",
       "0       2       0.00              1          1               1   \n",
       "1       1   83807.86              1          0               1   \n",
       "2       8  159660.80              3          1               0   \n",
       "3       1       0.00              2          0               0   \n",
       "4       2  125510.82              1          1               1   \n",
       "\n",
       "   EstimatedSalary  Exited  \n",
       "0        101348.88       1  \n",
       "1        112542.58       0  \n",
       "2        113931.57       1  \n",
       "3         93826.63       0  \n",
       "4         79084.10       0  "
      ]
     },
     "execution_count": 2,
     "metadata": {},
     "output_type": "execute_result"
    }
   ],
   "source": [
    "df = pd.read_csv('Churn_Modelling.csv')\n",
    "df.head()"
   ]
  },
  {
   "cell_type": "code",
   "execution_count": 3,
   "id": "8a502a77",
   "metadata": {},
   "outputs": [
    {
     "name": "stdout",
     "output_type": "stream",
     "text": [
      "<class 'pandas.core.frame.DataFrame'>\n",
      "RangeIndex: 10000 entries, 0 to 9999\n",
      "Data columns (total 14 columns):\n",
      " #   Column           Non-Null Count  Dtype  \n",
      "---  ------           --------------  -----  \n",
      " 0   RowNumber        10000 non-null  int64  \n",
      " 1   CustomerId       10000 non-null  int64  \n",
      " 2   Surname          10000 non-null  object \n",
      " 3   CreditScore      10000 non-null  int64  \n",
      " 4   Geography        10000 non-null  object \n",
      " 5   Gender           10000 non-null  object \n",
      " 6   Age              10000 non-null  int64  \n",
      " 7   Tenure           10000 non-null  int64  \n",
      " 8   Balance          10000 non-null  float64\n",
      " 9   NumOfProducts    10000 non-null  int64  \n",
      " 10  HasCrCard        10000 non-null  int64  \n",
      " 11  IsActiveMember   10000 non-null  int64  \n",
      " 12  EstimatedSalary  10000 non-null  float64\n",
      " 13  Exited           10000 non-null  int64  \n",
      "dtypes: float64(2), int64(9), object(3)\n",
      "memory usage: 1.1+ MB\n"
     ]
    }
   ],
   "source": [
    "df.info()"
   ]
  },
  {
   "cell_type": "code",
   "execution_count": 4,
   "id": "6fec73e5",
   "metadata": {},
   "outputs": [
    {
     "data": {
      "image/png": "[encoded data removed]",
      "text/plain": [
       "<Figure size 432x288 with 1 Axes>"
      ]
     },
     "metadata": {
      "needs_background": "light"
     },
     "output_type": "display_data"
    }
   ],
   "source": [
    "plt.xlabel('Exited')\n",
    "plt.ylabel('Count')\n",
    "df['Exited'].value_counts().plot.bar()\n",
    "plt.show()"
   ]
  },
  {
   "cell_type": "code",
   "execution_count": 5,
   "id": "2e1607ba",
   "metadata": {},
   "outputs": [
    {
     "data": {
      "text/plain": [
       "France     5014\n",
       "Germany    2509\n",
       "Spain      2477\n",
       "Name: Geography, dtype: int64"
      ]
     },
     "execution_count": 5,
     "metadata": {},
     "output_type": "execute_result"
    }
   ],
   "source": [
    "df['Geography'].value_counts()"
   ]
  },
  {
   "cell_type": "code",
   "execution_count": 6,
   "id": "3c36810b",
   "metadata": {},
   "outputs": [],
   "source": [
    "df = pd.concat([df,pd.get_dummies(df['Geography'],prefix='Geo')],axis=1)"
   ]
  },
  {
   "cell_type": "code",
   "execution_count": 7,
   "id": "b927ee76",
   "metadata": {},
   "outputs": [],
   "source": [
    "df = pd.concat([df,pd.get_dummies(df['Gender'])],axis=1)"
   ]
  },
  {
   "cell_type": "code",
   "execution_count": 8,
   "id": "6c2dd69e",
   "metadata": {},
   "outputs": [
    {
     "name": "stdout",
     "output_type": "stream",
     "text": [
      "<class 'pandas.core.frame.DataFrame'>\n",
      "RangeIndex: 10000 entries, 0 to 9999\n",
      "Data columns (total 19 columns):\n",
      " #   Column           Non-Null Count  Dtype  \n",
      "---  ------           --------------  -----  \n",
      " 0   RowNumber        10000 non-null  int64  \n",
      " 1   CustomerId       10000 non-null  int64  \n",
      " 2   Surname          10000 non-null  object \n",
      " 3   CreditScore      10000 non-null  int64  \n",
      " 4   Geography        10000 non-null  object \n",
      " 5   Gender           10000 non-null  object \n",
      " 6   Age              10000 non-null  int64  \n",
      " 7   Tenure           10000 non-null  int64  \n",
      " 8   Balance          10000 non-null  float64\n",
      " 9   NumOfProducts    10000 non-null  int64  \n",
      " 10  HasCrCard        10000 non-null  int64  \n",
      " 11  IsActiveMember   10000 non-null  int64  \n",
      " 12  EstimatedSalary  10000 non-null  float64\n",
      " 13  Exited           10000 non-null  int64  \n",
      " 14  Geo_France       10000 non-null  uint8  \n",
      " 15  Geo_Germany      10000 non-null  uint8  \n",
      " 16  Geo_Spain        10000 non-null  uint8  \n",
      " 17  Female           10000 non-null  uint8  \n",
      " 18  Male             10000 non-null  uint8  \n",
      "dtypes: float64(2), int64(9), object(3), uint8(5)\n",
      "memory usage: 1.1+ MB\n"
     ]
    }
   ],
   "source": [
    "df.info()"
   ]
  },
  {
   "cell_type": "code",
   "execution_count": 9,
   "id": "18a13462",
   "metadata": {},
   "outputs": [],
   "source": [
    "df.drop(columns=['RowNumber','CustomerId','Surname','Geography','Gender'],inplace=True)"
   ]
  },
  {
   "cell_type": "code",
   "execution_count": 10,
   "id": "6b1fbd04",
   "metadata": {},
   "outputs": [
    {
     "data": {
      "text/html": [
       "<div>\n",
       "<style scoped>\n",
       "    .dataframe tbody tr th:only-of-type {\n",
       "        vertical-align: middle;\n",
       "    }\n",
       "\n",
       "    .dataframe tbody tr th {\n",
       "        vertical-align: top;\n",
       "    }\n",
       "\n",
       "    .dataframe thead th {\n",
       "        text-align: right;\n",
       "    }\n",
       "</style>\n",
       "<table border=\"1\" class=\"dataframe\">\n",
       "  <thead>\n",
       "    <tr style=\"text-align: right;\">\n",
       "      <th></th>\n",
       "      <th>CreditScore</th>\n",
       "      <th>Age</th>\n",
       "      <th>Tenure</th>\n",
       "      <th>Balance</th>\n",
       "      <th>NumOfProducts</th>\n",
       "      <th>HasCrCard</th>\n",
       "      <th>IsActiveMember</th>\n",
       "      <th>EstimatedSalary</th>\n",
       "      <th>Exited</th>\n",
       "      <th>Geo_France</th>\n",
       "      <th>Geo_Germany</th>\n",
       "      <th>Geo_Spain</th>\n",
       "      <th>Female</th>\n",
       "      <th>Male</th>\n",
       "    </tr>\n",
       "  </thead>\n",
       "  <tbody>\n",
       "    <tr>\n",
       "      <th>0</th>\n",
       "      <td>619</td>\n",
       "      <td>42</td>\n",
       "      <td>2</td>\n",
       "      <td>0.00</td>\n",
       "      <td>1</td>\n",
       "      <td>1</td>\n",
       "      <td>1</td>\n",
       "      <td>101348.88</td>\n",
       "      <td>1</td>\n",
       "      <td>1</td>\n",
       "      <td>0</td>\n",
       "      <td>0</td>\n",
       "      <td>1</td>\n",
       "      <td>0</td>\n",
       "    </tr>\n",
       "    <tr>\n",
       "      <th>1</th>\n",
       "      <td>608</td>\n",
       "      <td>41</td>\n",
       "      <td>1</td>\n",
       "      <td>83807.86</td>\n",
       "      <td>1</td>\n",
       "      <td>0</td>\n",
       "      <td>1</td>\n",
       "      <td>112542.58</td>\n",
       "      <td>0</td>\n",
       "      <td>0</td>\n",
       "      <td>0</td>\n",
       "      <td>1</td>\n",
       "      <td>1</td>\n",
       "      <td>0</td>\n",
       "    </tr>\n",
       "    <tr>\n",
       "      <th>2</th>\n",
       "      <td>502</td>\n",
       "      <td>42</td>\n",
       "      <td>8</td>\n",
       "      <td>159660.80</td>\n",
       "      <td>3</td>\n",
       "      <td>1</td>\n",
       "      <td>0</td>\n",
       "      <td>113931.57</td>\n",
       "      <td>1</td>\n",
       "      <td>1</td>\n",
       "      <td>0</td>\n",
       "      <td>0</td>\n",
       "      <td>1</td>\n",
       "      <td>0</td>\n",
       "    </tr>\n",
       "    <tr>\n",
       "      <th>3</th>\n",
       "      <td>699</td>\n",
       "      <td>39</td>\n",
       "      <td>1</td>\n",
       "      <td>0.00</td>\n",
       "      <td>2</td>\n",
       "      <td>0</td>\n",
       "      <td>0</td>\n",
       "      <td>93826.63</td>\n",
       "      <td>0</td>\n",
       "      <td>1</td>\n",
       "      <td>0</td>\n",
       "      <td>0</td>\n",
       "      <td>1</td>\n",
       "      <td>0</td>\n",
       "    </tr>\n",
       "    <tr>\n",
       "      <th>4</th>\n",
       "      <td>850</td>\n",
       "      <td>43</td>\n",
       "      <td>2</td>\n",
       "      <td>125510.82</td>\n",
       "      <td>1</td>\n",
       "      <td>1</td>\n",
       "      <td>1</td>\n",
       "      <td>79084.10</td>\n",
       "      <td>0</td>\n",
       "      <td>0</td>\n",
       "      <td>0</td>\n",
       "      <td>1</td>\n",
       "      <td>1</td>\n",
       "      <td>0</td>\n",
       "    </tr>\n",
       "  </tbody>\n",
       "</table>\n",
       "</div>"
      ],
      "text/plain": [
       "   CreditScore  Age  Tenure    Balance  NumOfProducts  HasCrCard  \\\n",
       "0          619   42       2       0.00              1          1   \n",
       "1          608   41       1   83807.86              1          0   \n",
       "2          502   42       8  159660.80              3          1   \n",
       "3          699   39       1       0.00              2          0   \n",
       "4          850   43       2  125510.82              1          1   \n",
       "\n",
       "   IsActiveMember  EstimatedSalary  Exited  Geo_France  Geo_Germany  \\\n",
       "0               1        101348.88       1           1            0   \n",
       "1               1        112542.58       0           0            0   \n",
       "2               0        113931.57       1           1            0   \n",
       "3               0         93826.63       0           1            0   \n",
       "4               1         79084.10       0           0            0   \n",
       "\n",
       "   Geo_Spain  Female  Male  \n",
       "0          0       1     0  \n",
       "1          1       1     0  \n",
       "2          0       1     0  \n",
       "3          0       1     0  \n",
       "4          1       1     0  "
      ]
     },
     "execution_count": 10,
     "metadata": {},
     "output_type": "execute_result"
    }
   ],
   "source": [
    "df.head()"
   ]
  },
  {
   "cell_type": "markdown",
   "id": "1ef3f041",
   "metadata": {},
   "source": [
    "### Splitting Data"
   ]
  },
  {
   "cell_type": "code",
   "execution_count": 11,
   "id": "d8c1e14e",
   "metadata": {},
   "outputs": [],
   "source": [
    "y = df['Exited'].values\n",
    "x = df.loc[:,df.columns != 'Exited'].values"
   ]
  },
  {
   "cell_type": "code",
   "execution_count": 12,
   "id": "f513b1b9",
   "metadata": {},
   "outputs": [],
   "source": [
    "from sklearn.model_selection import train_test_split\n",
    "x_train,x_test,y_train,y_test = train_test_split(x,y,random_state=20,test_size=0.25)"
   ]
  },
  {
   "cell_type": "markdown",
   "id": "d8205cea",
   "metadata": {},
   "source": [
    "### Scaling Data"
   ]
  },
  {
   "cell_type": "code",
   "execution_count": 13,
   "id": "fb62677e",
   "metadata": {},
   "outputs": [],
   "source": [
    "from sklearn.preprocessing import StandardScaler\n",
    "std_x = StandardScaler()\n",
    "x_train = std_x.fit_transform(x_train)\n",
    "x_test = std_x.transform(x_test)"
   ]
  },
  {
   "cell_type": "code",
   "execution_count": 14,
   "id": "19cf27ef",
   "metadata": {},
   "outputs": [
    {
     "data": {
      "text/plain": [
       "(7500, 13)"
      ]
     },
     "execution_count": 14,
     "metadata": {},
     "output_type": "execute_result"
    }
   ],
   "source": [
    "x_train.shape"
   ]
  },
  {
   "cell_type": "markdown",
   "id": "4450abf6",
   "metadata": {},
   "source": [
    "### Tensorflow Model - Neural Network Classifier"
   ]
  },
  {
   "cell_type": "code",
   "execution_count": 15,
   "id": "1abf2fb9",
   "metadata": {},
   "outputs": [],
   "source": [
    "import tensorflow as tf\n",
    "from tensorflow.keras.layers import Dense,Conv1D,Flatten\n",
    "from tensorflow.keras.models import Sequential, Model"
   ]
  },
  {
   "cell_type": "code",
   "execution_count": 16,
   "id": "ca54c075",
   "metadata": {},
   "outputs": [],
   "source": [
    "model=Sequential()\n",
    "model.add(Flatten(input_shape=(13,)))\n",
    "model.add(Dense(100,activation='relu'))\n",
    "model.add(Dense(1,activation='sigmoid'))"
   ]
  },
  {
   "cell_type": "code",
   "execution_count": 17,
   "id": "dcd36ce7",
   "metadata": {},
   "outputs": [],
   "source": [
    "model.compile(optimizer='adam',metrics=['accuracy'],loss='BinaryCrossentropy')"
   ]
  },
  {
   "cell_type": "code",
   "execution_count": 18,
   "id": "628884fd",
   "metadata": {},
   "outputs": [
    {
     "name": "stdout",
     "output_type": "stream",
     "text": [
      "Epoch 1/100\n",
      "106/106 [==============================] - 1s 4ms/step - loss: 0.5174 - accuracy: 0.7484 - val_loss: 0.4282 - val_accuracy: 0.8200\n",
      "Epoch 2/100\n",
      "106/106 [==============================] - 0s 3ms/step - loss: 0.4297 - accuracy: 0.8121 - val_loss: 0.4027 - val_accuracy: 0.8227\n",
      "Epoch 3/100\n",
      "106/106 [==============================] - 0s 3ms/step - loss: 0.4118 - accuracy: 0.8227 - val_loss: 0.3880 - val_accuracy: 0.8373\n",
      "Epoch 4/100\n",
      "106/106 [==============================] - 0s 3ms/step - loss: 0.3981 - accuracy: 0.8296 - val_loss: 0.3676 - val_accuracy: 0.8440\n",
      "Epoch 5/100\n",
      "106/106 [==============================] - 0s 3ms/step - loss: 0.3845 - accuracy: 0.8396 - val_loss: 0.3540 - val_accuracy: 0.8587\n",
      "Epoch 6/100\n",
      "106/106 [==============================] - 0s 3ms/step - loss: 0.3740 - accuracy: 0.8422 - val_loss: 0.3456 - val_accuracy: 0.8667\n",
      "Epoch 7/100\n",
      "106/106 [==============================] - 0s 3ms/step - loss: 0.3656 - accuracy: 0.8467 - val_loss: 0.3396 - val_accuracy: 0.8720\n",
      "Epoch 8/100\n",
      "106/106 [==============================] - 0s 3ms/step - loss: 0.3600 - accuracy: 0.8504 - val_loss: 0.3334 - val_accuracy: 0.8693\n",
      "Epoch 9/100\n",
      "106/106 [==============================] - 0s 3ms/step - loss: 0.3559 - accuracy: 0.8524 - val_loss: 0.3311 - val_accuracy: 0.8680\n",
      "Epoch 10/100\n",
      "106/106 [==============================] - 0s 2ms/step - loss: 0.3529 - accuracy: 0.8553 - val_loss: 0.3255 - val_accuracy: 0.8707\n",
      "Epoch 11/100\n",
      "106/106 [==============================] - 0s 3ms/step - loss: 0.3510 - accuracy: 0.8532 - val_loss: 0.3213 - val_accuracy: 0.8787\n",
      "Epoch 12/100\n",
      "106/106 [==============================] - 0s 2ms/step - loss: 0.3480 - accuracy: 0.8569 - val_loss: 0.3223 - val_accuracy: 0.8707\n",
      "Epoch 13/100\n",
      "106/106 [==============================] - 0s 3ms/step - loss: 0.3463 - accuracy: 0.8561 - val_loss: 0.3189 - val_accuracy: 0.8760\n",
      "Epoch 14/100\n",
      "106/106 [==============================] - 0s 3ms/step - loss: 0.3449 - accuracy: 0.8567 - val_loss: 0.3181 - val_accuracy: 0.8707\n",
      "Epoch 15/100\n",
      "106/106 [==============================] - 0s 2ms/step - loss: 0.3432 - accuracy: 0.8587 - val_loss: 0.3207 - val_accuracy: 0.8773\n",
      "Epoch 16/100\n",
      "106/106 [==============================] - 0s 2ms/step - loss: 0.3428 - accuracy: 0.8588 - val_loss: 0.3180 - val_accuracy: 0.8680\n",
      "Epoch 17/100\n",
      "106/106 [==============================] - 0s 3ms/step - loss: 0.3415 - accuracy: 0.8584 - val_loss: 0.3157 - val_accuracy: 0.8800\n",
      "Epoch 18/100\n",
      "106/106 [==============================] - 0s 3ms/step - loss: 0.3404 - accuracy: 0.8581 - val_loss: 0.3148 - val_accuracy: 0.8760\n",
      "Epoch 19/100\n",
      "106/106 [==============================] - 0s 2ms/step - loss: 0.3402 - accuracy: 0.8599 - val_loss: 0.3124 - val_accuracy: 0.8853\n",
      "Epoch 20/100\n",
      "106/106 [==============================] - 0s 3ms/step - loss: 0.3389 - accuracy: 0.8576 - val_loss: 0.3183 - val_accuracy: 0.8840\n",
      "Epoch 21/100\n",
      "106/106 [==============================] - 0s 2ms/step - loss: 0.3386 - accuracy: 0.8616 - val_loss: 0.3156 - val_accuracy: 0.8800\n",
      "Epoch 22/100\n",
      "106/106 [==============================] - 0s 3ms/step - loss: 0.3370 - accuracy: 0.8604 - val_loss: 0.3154 - val_accuracy: 0.8720\n",
      "Epoch 23/100\n",
      "106/106 [==============================] - 0s 2ms/step - loss: 0.3376 - accuracy: 0.8600 - val_loss: 0.3161 - val_accuracy: 0.8800\n",
      "Epoch 24/100\n",
      "106/106 [==============================] - 0s 2ms/step - loss: 0.3360 - accuracy: 0.8624 - val_loss: 0.3182 - val_accuracy: 0.8773\n",
      "Epoch 25/100\n",
      "106/106 [==============================] - 0s 2ms/step - loss: 0.3361 - accuracy: 0.8610 - val_loss: 0.3197 - val_accuracy: 0.8760\n",
      "Epoch 26/100\n",
      "106/106 [==============================] - 0s 3ms/step - loss: 0.3351 - accuracy: 0.8604 - val_loss: 0.3144 - val_accuracy: 0.8773\n",
      "Epoch 27/100\n",
      "106/106 [==============================] - 0s 3ms/step - loss: 0.3346 - accuracy: 0.8641 - val_loss: 0.3170 - val_accuracy: 0.8733\n",
      "Epoch 28/100\n",
      "106/106 [==============================] - 0s 2ms/step - loss: 0.3345 - accuracy: 0.8613 - val_loss: 0.3181 - val_accuracy: 0.8773\n",
      "Epoch 29/100\n",
      "106/106 [==============================] - 0s 3ms/step - loss: 0.3338 - accuracy: 0.8616 - val_loss: 0.3192 - val_accuracy: 0.8747\n",
      "Epoch 30/100\n",
      "106/106 [==============================] - 0s 2ms/step - loss: 0.3328 - accuracy: 0.8609 - val_loss: 0.3161 - val_accuracy: 0.8760\n",
      "Epoch 31/100\n",
      "106/106 [==============================] - 0s 3ms/step - loss: 0.3328 - accuracy: 0.8619 - val_loss: 0.3222 - val_accuracy: 0.8667\n",
      "Epoch 32/100\n",
      "106/106 [==============================] - 0s 3ms/step - loss: 0.3319 - accuracy: 0.8639 - val_loss: 0.3188 - val_accuracy: 0.8800\n",
      "Epoch 33/100\n",
      "106/106 [==============================] - 0s 3ms/step - loss: 0.3321 - accuracy: 0.8644 - val_loss: 0.3139 - val_accuracy: 0.8840\n",
      "Epoch 34/100\n",
      "106/106 [==============================] - 0s 3ms/step - loss: 0.3323 - accuracy: 0.8627 - val_loss: 0.3168 - val_accuracy: 0.8760\n",
      "Epoch 35/100\n",
      "106/106 [==============================] - 0s 2ms/step - loss: 0.3310 - accuracy: 0.8640 - val_loss: 0.3217 - val_accuracy: 0.8773\n",
      "Epoch 36/100\n",
      "106/106 [==============================] - 0s 3ms/step - loss: 0.3305 - accuracy: 0.8621 - val_loss: 0.3170 - val_accuracy: 0.8773\n",
      "Epoch 37/100\n",
      "106/106 [==============================] - 0s 2ms/step - loss: 0.3299 - accuracy: 0.8637 - val_loss: 0.3229 - val_accuracy: 0.8773\n",
      "Epoch 38/100\n",
      "106/106 [==============================] - 0s 2ms/step - loss: 0.3288 - accuracy: 0.8647 - val_loss: 0.3204 - val_accuracy: 0.8760\n",
      "Epoch 39/100\n",
      "106/106 [==============================] - 0s 2ms/step - loss: 0.3295 - accuracy: 0.8647 - val_loss: 0.3245 - val_accuracy: 0.8733\n",
      "Epoch 40/100\n",
      "106/106 [==============================] - 0s 2ms/step - loss: 0.3282 - accuracy: 0.8650 - val_loss: 0.3180 - val_accuracy: 0.8773\n",
      "Epoch 41/100\n",
      "106/106 [==============================] - 0s 2ms/step - loss: 0.3287 - accuracy: 0.8646 - val_loss: 0.3194 - val_accuracy: 0.8787\n",
      "Epoch 42/100\n",
      "106/106 [==============================] - 0s 3ms/step - loss: 0.3274 - accuracy: 0.8662 - val_loss: 0.3175 - val_accuracy: 0.8667\n",
      "Epoch 43/100\n",
      "106/106 [==============================] - 0s 3ms/step - loss: 0.3282 - accuracy: 0.8618 - val_loss: 0.3235 - val_accuracy: 0.8773\n",
      "Epoch 44/100\n",
      "106/106 [==============================] - 0s 3ms/step - loss: 0.3278 - accuracy: 0.8656 - val_loss: 0.3222 - val_accuracy: 0.8787\n",
      "Epoch 45/100\n",
      "106/106 [==============================] - 0s 3ms/step - loss: 0.3269 - accuracy: 0.8641 - val_loss: 0.3242 - val_accuracy: 0.8693\n",
      "Epoch 46/100\n",
      "106/106 [==============================] - 0s 3ms/step - loss: 0.3265 - accuracy: 0.8631 - val_loss: 0.3177 - val_accuracy: 0.8813\n",
      "Epoch 47/100\n",
      "106/106 [==============================] - 0s 3ms/step - loss: 0.3265 - accuracy: 0.8679 - val_loss: 0.3191 - val_accuracy: 0.8800\n",
      "Epoch 48/100\n",
      "106/106 [==============================] - 0s 3ms/step - loss: 0.3261 - accuracy: 0.8668 - val_loss: 0.3205 - val_accuracy: 0.8787\n",
      "Epoch 49/100\n",
      "106/106 [==============================] - 0s 3ms/step - loss: 0.3264 - accuracy: 0.8624 - val_loss: 0.3223 - val_accuracy: 0.8733\n",
      "Epoch 50/100\n",
      "106/106 [==============================] - 0s 3ms/step - loss: 0.3246 - accuracy: 0.8668 - val_loss: 0.3244 - val_accuracy: 0.8747\n",
      "Epoch 51/100\n",
      "106/106 [==============================] - 0s 3ms/step - loss: 0.3245 - accuracy: 0.8677 - val_loss: 0.3231 - val_accuracy: 0.8720\n",
      "Epoch 52/100\n",
      "106/106 [==============================] - 0s 3ms/step - loss: 0.3240 - accuracy: 0.8656 - val_loss: 0.3184 - val_accuracy: 0.8747\n",
      "Epoch 53/100\n",
      "106/106 [==============================] - 0s 3ms/step - loss: 0.3242 - accuracy: 0.8661 - val_loss: 0.3210 - val_accuracy: 0.8853\n",
      "Epoch 54/100\n",
      "106/106 [==============================] - 0s 3ms/step - loss: 0.3241 - accuracy: 0.8668 - val_loss: 0.3211 - val_accuracy: 0.8787\n",
      "Epoch 55/100\n",
      "106/106 [==============================] - 0s 3ms/step - loss: 0.3237 - accuracy: 0.8647 - val_loss: 0.3239 - val_accuracy: 0.8760\n",
      "Epoch 56/100\n",
      "106/106 [==============================] - 0s 3ms/step - loss: 0.3234 - accuracy: 0.8670 - val_loss: 0.3223 - val_accuracy: 0.8720\n",
      "Epoch 57/100\n",
      "106/106 [==============================] - 0s 3ms/step - loss: 0.3235 - accuracy: 0.8649 - val_loss: 0.3205 - val_accuracy: 0.8827\n"
     ]
    },
    {
     "name": "stdout",
     "output_type": "stream",
     "text": [
      "Epoch 58/100\n",
      "106/106 [==============================] - 0s 2ms/step - loss: 0.3220 - accuracy: 0.8679 - val_loss: 0.3208 - val_accuracy: 0.8760\n",
      "Epoch 59/100\n",
      "106/106 [==============================] - 0s 3ms/step - loss: 0.3223 - accuracy: 0.8671 - val_loss: 0.3243 - val_accuracy: 0.8680\n",
      "Epoch 60/100\n",
      "106/106 [==============================] - 0s 3ms/step - loss: 0.3219 - accuracy: 0.8673 - val_loss: 0.3258 - val_accuracy: 0.8693\n",
      "Epoch 61/100\n",
      "106/106 [==============================] - 0s 3ms/step - loss: 0.3216 - accuracy: 0.8664 - val_loss: 0.3185 - val_accuracy: 0.8813\n",
      "Epoch 62/100\n",
      "106/106 [==============================] - 0s 3ms/step - loss: 0.3206 - accuracy: 0.8667 - val_loss: 0.3208 - val_accuracy: 0.8720\n",
      "Epoch 63/100\n",
      "106/106 [==============================] - 0s 2ms/step - loss: 0.3210 - accuracy: 0.8656 - val_loss: 0.3195 - val_accuracy: 0.8773\n",
      "Epoch 64/100\n",
      "106/106 [==============================] - 0s 3ms/step - loss: 0.3210 - accuracy: 0.8677 - val_loss: 0.3232 - val_accuracy: 0.8760\n",
      "Epoch 65/100\n",
      "106/106 [==============================] - 0s 2ms/step - loss: 0.3204 - accuracy: 0.8673 - val_loss: 0.3271 - val_accuracy: 0.8800\n",
      "Epoch 66/100\n",
      "106/106 [==============================] - 0s 2ms/step - loss: 0.3204 - accuracy: 0.8689 - val_loss: 0.3295 - val_accuracy: 0.8773\n",
      "Epoch 67/100\n",
      "106/106 [==============================] - 0s 2ms/step - loss: 0.3210 - accuracy: 0.8677 - val_loss: 0.3252 - val_accuracy: 0.8773\n",
      "Epoch 68/100\n",
      "106/106 [==============================] - 0s 2ms/step - loss: 0.3192 - accuracy: 0.8686 - val_loss: 0.3220 - val_accuracy: 0.8733\n",
      "Epoch 69/100\n",
      "106/106 [==============================] - 0s 3ms/step - loss: 0.3190 - accuracy: 0.8671 - val_loss: 0.3214 - val_accuracy: 0.8800\n",
      "Epoch 70/100\n",
      "106/106 [==============================] - 0s 2ms/step - loss: 0.3194 - accuracy: 0.8690 - val_loss: 0.3245 - val_accuracy: 0.8707\n",
      "Epoch 71/100\n",
      "106/106 [==============================] - 0s 2ms/step - loss: 0.3188 - accuracy: 0.8680 - val_loss: 0.3215 - val_accuracy: 0.8773\n",
      "Epoch 72/100\n",
      "106/106 [==============================] - 0s 2ms/step - loss: 0.3186 - accuracy: 0.8680 - val_loss: 0.3235 - val_accuracy: 0.8747\n",
      "Epoch 73/100\n",
      "106/106 [==============================] - 0s 3ms/step - loss: 0.3174 - accuracy: 0.8687 - val_loss: 0.3241 - val_accuracy: 0.8707\n",
      "Epoch 74/100\n",
      "106/106 [==============================] - 0s 3ms/step - loss: 0.3175 - accuracy: 0.8701 - val_loss: 0.3256 - val_accuracy: 0.8707\n",
      "Epoch 75/100\n",
      "106/106 [==============================] - 0s 3ms/step - loss: 0.3174 - accuracy: 0.8686 - val_loss: 0.3236 - val_accuracy: 0.8720\n",
      "Epoch 76/100\n",
      "106/106 [==============================] - 0s 2ms/step - loss: 0.3171 - accuracy: 0.8687 - val_loss: 0.3223 - val_accuracy: 0.8787\n",
      "Epoch 77/100\n",
      "106/106 [==============================] - 0s 2ms/step - loss: 0.3166 - accuracy: 0.8698 - val_loss: 0.3195 - val_accuracy: 0.8760\n",
      "Epoch 78/100\n",
      "106/106 [==============================] - 0s 3ms/step - loss: 0.3167 - accuracy: 0.8705 - val_loss: 0.3280 - val_accuracy: 0.8720\n",
      "Epoch 79/100\n",
      "106/106 [==============================] - 0s 3ms/step - loss: 0.3167 - accuracy: 0.8689 - val_loss: 0.3248 - val_accuracy: 0.8733\n",
      "Epoch 80/100\n",
      "106/106 [==============================] - 0s 2ms/step - loss: 0.3163 - accuracy: 0.8687 - val_loss: 0.3243 - val_accuracy: 0.8773\n",
      "Epoch 81/100\n",
      "106/106 [==============================] - 0s 3ms/step - loss: 0.3157 - accuracy: 0.8690 - val_loss: 0.3225 - val_accuracy: 0.8760\n",
      "Epoch 82/100\n",
      "106/106 [==============================] - 0s 2ms/step - loss: 0.3148 - accuracy: 0.8707 - val_loss: 0.3261 - val_accuracy: 0.8747\n",
      "Epoch 83/100\n",
      "106/106 [==============================] - 0s 3ms/step - loss: 0.3155 - accuracy: 0.8716 - val_loss: 0.3259 - val_accuracy: 0.8707\n",
      "Epoch 84/100\n",
      "106/106 [==============================] - 0s 3ms/step - loss: 0.3151 - accuracy: 0.8713 - val_loss: 0.3232 - val_accuracy: 0.8720\n",
      "Epoch 85/100\n",
      "106/106 [==============================] - 0s 2ms/step - loss: 0.3150 - accuracy: 0.8690 - val_loss: 0.3226 - val_accuracy: 0.8787\n",
      "Epoch 86/100\n",
      "106/106 [==============================] - 0s 3ms/step - loss: 0.3144 - accuracy: 0.8705 - val_loss: 0.3244 - val_accuracy: 0.8747\n",
      "Epoch 87/100\n",
      "106/106 [==============================] - 0s 2ms/step - loss: 0.3138 - accuracy: 0.8708 - val_loss: 0.3239 - val_accuracy: 0.8747\n",
      "Epoch 88/100\n",
      "106/106 [==============================] - 0s 3ms/step - loss: 0.3138 - accuracy: 0.8684 - val_loss: 0.3230 - val_accuracy: 0.8760\n",
      "Epoch 89/100\n",
      "106/106 [==============================] - 0s 3ms/step - loss: 0.3123 - accuracy: 0.8702 - val_loss: 0.3264 - val_accuracy: 0.8800\n",
      "Epoch 90/100\n",
      "106/106 [==============================] - 0s 3ms/step - loss: 0.3132 - accuracy: 0.8733 - val_loss: 0.3189 - val_accuracy: 0.8773\n",
      "Epoch 91/100\n",
      "106/106 [==============================] - 0s 2ms/step - loss: 0.3126 - accuracy: 0.8695 - val_loss: 0.3192 - val_accuracy: 0.8760\n",
      "Epoch 92/100\n",
      "106/106 [==============================] - 0s 3ms/step - loss: 0.3128 - accuracy: 0.8693 - val_loss: 0.3231 - val_accuracy: 0.8773\n",
      "Epoch 93/100\n",
      "106/106 [==============================] - 0s 3ms/step - loss: 0.3124 - accuracy: 0.8699 - val_loss: 0.3205 - val_accuracy: 0.8693\n",
      "Epoch 94/100\n",
      "106/106 [==============================] - 0s 3ms/step - loss: 0.3118 - accuracy: 0.8726 - val_loss: 0.3246 - val_accuracy: 0.8800\n",
      "Epoch 95/100\n",
      "106/106 [==============================] - 0s 2ms/step - loss: 0.3105 - accuracy: 0.8710 - val_loss: 0.3202 - val_accuracy: 0.8787\n",
      "Epoch 96/100\n",
      "106/106 [==============================] - 0s 2ms/step - loss: 0.3111 - accuracy: 0.8708 - val_loss: 0.3189 - val_accuracy: 0.8733\n",
      "Epoch 97/100\n",
      "106/106 [==============================] - 0s 3ms/step - loss: 0.3102 - accuracy: 0.8711 - val_loss: 0.3171 - val_accuracy: 0.8827\n",
      "Epoch 98/100\n",
      "106/106 [==============================] - 0s 3ms/step - loss: 0.3096 - accuracy: 0.8719 - val_loss: 0.3160 - val_accuracy: 0.8827\n",
      "Epoch 99/100\n",
      "106/106 [==============================] - 0s 3ms/step - loss: 0.3098 - accuracy: 0.8716 - val_loss: 0.3235 - val_accuracy: 0.8747\n",
      "Epoch 100/100\n",
      "106/106 [==============================] - 0s 3ms/step - loss: 0.3100 - accuracy: 0.8716 - val_loss: 0.3214 - val_accuracy: 0.8787\n"
     ]
    },
    {
     "data": {
      "text/plain": [
       "<keras.callbacks.History at 0x29611b68370>"
      ]
     },
     "execution_count": 18,
     "metadata": {},
     "output_type": "execute_result"
    }
   ],
   "source": [
    "model.fit(x_train,y_train,batch_size=64,validation_split=0.1,epochs=100)"
   ]
  },
  {
   "cell_type": "code",
   "execution_count": 19,
   "id": "cb349c5f",
   "metadata": {},
   "outputs": [],
   "source": [
    "pred = model.predict(x_test)"
   ]
  },
  {
   "cell_type": "code",
   "execution_count": 20,
   "id": "0117723d",
   "metadata": {},
   "outputs": [],
   "source": [
    "y_pred = []\n",
    "for val in pred:\n",
    "    if val > 0.5:\n",
    "        y_pred.append(1)\n",
    "    else:\n",
    "        y_pred.append(0)"
   ]
  },
  {
   "cell_type": "code",
   "execution_count": 21,
   "id": "ad1f3f74",
   "metadata": {},
   "outputs": [],
   "source": [
    "from sklearn.metrics import accuracy_score,confusion_matrix,ConfusionMatrixDisplay"
   ]
  },
  {
   "cell_type": "code",
   "execution_count": 22,
   "id": "cd6ebb87",
   "metadata": {},
   "outputs": [
    {
     "data": {
      "text/plain": [
       "0.8628"
      ]
     },
     "execution_count": 22,
     "metadata": {},
     "output_type": "execute_result"
    }
   ],
   "source": [
    "accuracy_score(y_test,y_pred)"
   ]
  },
  {
   "cell_type": "code",
   "execution_count": 23,
   "id": "bd015e4f",
   "metadata": {},
   "outputs": [
    {
     "data": {
      "text/plain": [
       "<sklearn.metrics._plot.confusion_matrix.ConfusionMatrixDisplay at 0x29612203d30>"
      ]
     },
     "execution_count": 23,
     "metadata": {},
     "output_type": "execute_result"
    },
    {
     "data": {
      "image/png": "[encoded data removed]",
      "text/plain": [
       "<Figure size 432x288 with 2 Axes>"
      ]
     },
     "metadata": {
      "needs_background": "light"
     },
     "output_type": "display_data"
    }
   ],
   "source": [
    "cm = confusion_matrix(y_test,y_pred)\n",
    "display = ConfusionMatrixDisplay(cm)\n",
    "display.plot()"
   ]
  },
  {
   "cell_type": "code",
   "execution_count": null,
   "id": "5f667de5",
   "metadata": {},
   "outputs": [],
   "source": []
  }
 ],
 "metadata": {
  "kernelspec": {
   "display_name": "Python 3 (ipykernel)",
   "language": "python",
   "name": "python3"
  },
  "language_info": {
   "codemirror_mode": {
    "name": "ipython",
    "version": 3
   },
   "file_extension": ".py",
   "mimetype": "text/x-python",
   "name": "python",
   "nbconvert_exporter": "python",
   "pygments_lexer": "ipython3",
   "version": "3.10.4"
  }
 },
 "nbformat": 4,
 "nbformat_minor": 5
}
